{
 "cells": [
  {
   "cell_type": "markdown",
   "id": "sticky-ministry",
   "metadata": {},
   "source": [
    "# Comparison of TFIDF and word2vec .\n",
    "\n",
    "### By- Kanav Malik"
   ]
  },
  {
   "cell_type": "code",
   "execution_count": 1,
   "id": "found-dakota",
   "metadata": {},
   "outputs": [],
   "source": [
    "import logging\n",
    "import pandas as pd\n",
    "import numpy as np\n",
    "from numpy import random\n",
    "import gensim\n",
    "import nltk\n",
    "from sklearn.model_selection import train_test_split\n",
    "from sklearn.feature_extraction.text import CountVectorizer, TfidfVectorizer\n",
    "from sklearn.metrics import accuracy_score, confusion_matrix\n",
    "import matplotlib.pyplot as plt\n",
    "from nltk.corpus import stopwords\n",
    "import re\n",
    "from bs4 import BeautifulSoup\n",
    "\n",
    "%matplotlib inline"
   ]
  },
  {
   "cell_type": "markdown",
   "id": "future-pharmacy",
   "metadata": {},
   "source": [
    "\n",
    "We are going to evaluate the two word embeddings first with a relatively small data set then with the data set of relatively larger corpus. \n"
   ]
  },
  {
   "cell_type": "code",
   "execution_count": 2,
   "id": "judicial-wallpaper",
   "metadata": {},
   "outputs": [
    {
     "data": {
      "text/plain": [
       "{'category': 'CRIME',\n",
       " 'headline': 'There Were 2 Mass Shootings In Texas Last Week, But Only 1 On TV',\n",
       " 'authors': 'Melissa Jeltsen',\n",
       " 'link': 'https://www.huffingtonpost.com/entry/texas-amanda-painter-mass-shooting_us_5b081ab4e4b0802d69caad89',\n",
       " 'short_description': 'She left her husband. He killed their children. Just another day in America.',\n",
       " 'date': '2018-05-26'}"
      ]
     },
     "execution_count": 2,
     "metadata": {},
     "output_type": "execute_result"
    }
   ],
   "source": [
    "import json\n",
    "\n",
    "lst_dics = []\n",
    "with open('data_news.json', mode='r', errors='ignore') as json_file:\n",
    "    for dic in json_file:\n",
    "        lst_dics.append( json.loads(dic) )\n",
    "    \n",
    "lst_dics[0]"
   ]
  },
  {
   "cell_type": "code",
   "execution_count": 3,
   "id": "painted-nirvana",
   "metadata": {},
   "outputs": [],
   "source": [
    "df = pd.DataFrame(lst_dics)\n",
    "df = df[ df[\"category\"].isin(['ENTERTAINMENT','POLITICS','TECH']) ][[\"category\",\"headline\"]]\n",
    "df = df.rename(columns={\"headline\":\"post\" ,\"category\":\"tags\"})"
   ]
  },
  {
   "cell_type": "code",
   "execution_count": 4,
   "id": "unsigned-cutting",
   "metadata": {},
   "outputs": [
    {
     "data": {
      "text/html": [
       "<div>\n",
       "<style scoped>\n",
       "    .dataframe tbody tr th:only-of-type {\n",
       "        vertical-align: middle;\n",
       "    }\n",
       "\n",
       "    .dataframe tbody tr th {\n",
       "        vertical-align: top;\n",
       "    }\n",
       "\n",
       "    .dataframe thead th {\n",
       "        text-align: right;\n",
       "    }\n",
       "</style>\n",
       "<table border=\"1\" class=\"dataframe\">\n",
       "  <thead>\n",
       "    <tr style=\"text-align: right;\">\n",
       "      <th></th>\n",
       "      <th>tags</th>\n",
       "      <th>post</th>\n",
       "    </tr>\n",
       "  </thead>\n",
       "  <tbody>\n",
       "    <tr>\n",
       "      <th>40708</th>\n",
       "      <td>POLITICS</td>\n",
       "      <td>Americans Dislike How The Media Treats Trump -...</td>\n",
       "    </tr>\n",
       "    <tr>\n",
       "      <th>65015</th>\n",
       "      <td>POLITICS</td>\n",
       "      <td>Jan Brewer Criticizes Mitt Romney's Attack On ...</td>\n",
       "    </tr>\n",
       "    <tr>\n",
       "      <th>9575</th>\n",
       "      <td>ENTERTAINMENT</td>\n",
       "      <td>Yes, George Clooney Once Gifted His 14 Closest...</td>\n",
       "    </tr>\n",
       "    <tr>\n",
       "      <th>80599</th>\n",
       "      <td>POLITICS</td>\n",
       "      <td>Mothers Who Lost Sons In The Iraq War Lobby Fo...</td>\n",
       "    </tr>\n",
       "    <tr>\n",
       "      <th>95601</th>\n",
       "      <td>ENTERTAINMENT</td>\n",
       "      <td>Taylor Swift Reportedly Bought A Porn Site Dom...</td>\n",
       "    </tr>\n",
       "  </tbody>\n",
       "</table>\n",
       "</div>"
      ],
      "text/plain": [
       "                tags                                               post\n",
       "40708       POLITICS  Americans Dislike How The Media Treats Trump -...\n",
       "65015       POLITICS  Jan Brewer Criticizes Mitt Romney's Attack On ...\n",
       "9575   ENTERTAINMENT  Yes, George Clooney Once Gifted His 14 Closest...\n",
       "80599       POLITICS  Mothers Who Lost Sons In The Iraq War Lobby Fo...\n",
       "95601  ENTERTAINMENT  Taylor Swift Reportedly Bought A Porn Site Dom..."
      ]
     },
     "execution_count": 4,
     "metadata": {},
     "output_type": "execute_result"
    }
   ],
   "source": [
    "df.sample(5)"
   ]
  },
  {
   "cell_type": "markdown",
   "id": "intermediate-processor",
   "metadata": {},
   "source": [
    "let's take a look at our distribution of categories in the above data set."
   ]
  },
  {
   "cell_type": "code",
   "execution_count": 5,
   "id": "provincial-calendar",
   "metadata": {},
   "outputs": [
    {
     "data": {
      "image/png": "[encoded data removed]",
      "text/plain": [
       "<Figure size 720x288 with 1 Axes>"
      ]
     },
     "metadata": {
      "needs_background": "light"
     },
     "output_type": "display_data"
    }
   ],
   "source": [
    "plt.figure(figsize=(10,4))\n",
    "df.tags.value_counts().plot(kind='bar');"
   ]
  },
  {
   "cell_type": "code",
   "execution_count": 6,
   "id": "abandoned-concentration",
   "metadata": {},
   "outputs": [],
   "source": [
    "def print_plot(index):\n",
    "    postValue = df[df.index == index][['post', 'tags']].values[0]\n",
    "    if len(postValue) > 0:\n",
    "        print(postValue[0])\n",
    "        print('Tag:', postValue[1])"
   ]
  },
  {
   "cell_type": "code",
   "execution_count": 7,
   "id": "built-appeal",
   "metadata": {},
   "outputs": [
    {
     "name": "stdout",
     "output_type": "stream",
     "text": [
      "Morgan Freeman 'Devastated' That Sexual Harassment Claims Could Undermine Legacy\n",
      "Tag: ENTERTAINMENT\n"
     ]
    }
   ],
   "source": [
    "print_plot(5)"
   ]
  },
  {
   "cell_type": "markdown",
   "id": "introductory-routine",
   "metadata": {},
   "source": [
    "Performing cleanup of text: "
   ]
  },
  {
   "cell_type": "code",
   "execution_count": 8,
   "id": "experienced-throat",
   "metadata": {},
   "outputs": [],
   "source": [
    "REPLACE_BY_SPACE_RE = re.compile('[/(){}\\[\\]\\|@,;]')\n",
    "BAD_SYMBOLS_RE = re.compile('[^0-9a-z #+_]')\n",
    "STOPWORDS = set(stopwords.words('english'))\n",
    "\n",
    "def clean_text(text):\n",
    "    \"\"\"\n",
    "        text: a string\n",
    "        \n",
    "        return: modified initial string\n",
    "    \"\"\"\n",
    "#     print('text', text)\n",
    "#     text = BeautifulSoup(text, \"lxml\").text # HTML decoding\n",
    "#     text = BeautifulSoup(text,  \"html.parser\")\n",
    "    text = text.lower() # lowercase text\n",
    "    text = REPLACE_BY_SPACE_RE.sub(' ', text) # replace REPLACE_BY_SPACE_RE symbols by space in text\n",
    "    text = BAD_SYMBOLS_RE.sub('', text) # delete symbols which are in BAD_SYMBOLS_RE from text\n",
    "    text = ' '.join(word for word in text.split() if word not in STOPWORDS) # delete stopwors from text\n",
    "    return text"
   ]
  },
  {
   "cell_type": "code",
   "execution_count": 9,
   "id": "collective-anniversary",
   "metadata": {},
   "outputs": [],
   "source": [
    "df['post'] = df['post'].apply(clean_text)"
   ]
  },
  {
   "cell_type": "code",
   "execution_count": 10,
   "id": "isolated-cabin",
   "metadata": {},
   "outputs": [
    {
     "name": "stdout",
     "output_type": "stream",
     "text": [
      "morgan freeman devastated sexual harassment claims could undermine legacy\n",
      "Tag: ENTERTAINMENT\n"
     ]
    }
   ],
   "source": [
    "print_plot(5)"
   ]
  },
  {
   "cell_type": "code",
   "execution_count": 50,
   "id": "incorporated-hughes",
   "metadata": {},
   "outputs": [
    {
     "data": {
      "text/plain": [
       "378393"
      ]
     },
     "execution_count": 50,
     "metadata": {},
     "output_type": "execute_result"
    }
   ],
   "source": [
    "df['post'].apply(lambda x: len(x.split(' '))).sum()\n"
   ]
  },
  {
   "cell_type": "markdown",
   "id": "human-heart",
   "metadata": {},
   "source": [
    "As we can se above we have around 300k words to work with for our comparison.\n",
    "\n",
    "Let's first understand what is TF-IDF?"
   ]
  },
  {
   "cell_type": "markdown",
   "id": "fantastic-joyce",
   "metadata": {},
   "source": [
    "## TF-IDF"
   ]
  },
  {
   "cell_type": "markdown",
   "id": "proper-start",
   "metadata": {},
   "source": [
    "## Term Frequency (TF)\n",
    "\n",
    "The number of times a word appears in a document divded by the total number of words in the document. Every document has its own term frequency."
   ]
  },
  {
   "cell_type": "markdown",
   "id": "accessory-leonard",
   "metadata": {},
   "source": [
    "<img src=\"tf.png\">"
   ]
  },
  {
   "cell_type": "markdown",
   "id": "informational-casino",
   "metadata": {},
   "source": [
    "## Inverse Data Frequency (IDF)\n",
    "\n",
    "The log of the number of documents divided by the number of documents that contain the word w. Inverse data frequency determines the weight of rare words across all documents in the corpus."
   ]
  },
  {
   "cell_type": "markdown",
   "id": "existing-philadelphia",
   "metadata": {},
   "source": [
    "<img src=\"idf.png\">"
   ]
  },
  {
   "cell_type": "markdown",
   "id": "ranging-latino",
   "metadata": {},
   "source": [
    "Finally, the TF-IDF is simply the TF multiplied by IDF."
   ]
  },
  {
   "cell_type": "markdown",
   "id": "eight-affair",
   "metadata": {},
   "source": [
    "<img src=\"tfidf.png\">"
   ]
  },
  {
   "cell_type": "markdown",
   "id": "analyzed-sessions",
   "metadata": {},
   "source": [
    "In the next steps, We will convert our text documents to a matrix of token counts (CountVectorizer), then transform a count matrix to a normalized tf-idf representation (tf-idf transformer). After that, we train several classifiers."
   ]
  },
  {
   "cell_type": "code",
   "execution_count": 11,
   "id": "atmospheric-official",
   "metadata": {},
   "outputs": [],
   "source": [
    "X = df.post\n",
    "y = df.tags\n",
    "X_train, X_test, y_train, y_test = train_test_split(X, y, test_size=0.3, random_state = 42)"
   ]
  },
  {
   "cell_type": "code",
   "execution_count": 12,
   "id": "female-workplace",
   "metadata": {},
   "outputs": [
    {
     "data": {
      "text/plain": [
       "Pipeline(steps=[('vect', CountVectorizer()), ('tfidf', TfidfTransformer()),\n",
       "                ('clf', MultinomialNB())])"
      ]
     },
     "execution_count": 12,
     "metadata": {},
     "output_type": "execute_result"
    }
   ],
   "source": [
    "from sklearn.naive_bayes import MultinomialNB\n",
    "from sklearn.pipeline import Pipeline\n",
    "from sklearn.feature_extraction.text import TfidfTransformer\n",
    "\n",
    "nb = Pipeline([('vect', CountVectorizer()),\n",
    "               ('tfidf', TfidfTransformer()),\n",
    "               ('clf', MultinomialNB()),\n",
    "              ])\n",
    "nb.fit(X_train, y_train)"
   ]
  },
  {
   "cell_type": "code",
   "execution_count": 13,
   "id": "unexpected-convertible",
   "metadata": {},
   "outputs": [
    {
     "name": "stdout",
     "output_type": "stream",
     "text": [
      "accuracy 0.9001572327044025\n",
      "               precision    recall  f1-score   support\n",
      "\n",
      "ENTERTAINMENT       0.95      0.83      0.89      4905\n",
      "     POLITICS       0.88      0.99      0.93      9759\n",
      "         TECH       1.00      0.07      0.12       600\n",
      "\n",
      "     accuracy                           0.90     15264\n",
      "    macro avg       0.94      0.63      0.65     15264\n",
      " weighted avg       0.91      0.90      0.88     15264\n",
      "\n",
      "[0.95, 0.83, 0.89]\n",
      "[0.88, 0.99, 0.93]\n",
      "[1.0, 0.07, 0.12]\n"
     ]
    },
    {
     "data": {
      "image/png": "[encoded data removed]",
      "text/plain": [
       "<Figure size 432x288 with 3 Axes>"
      ]
     },
     "metadata": {
      "needs_background": "light"
     },
     "output_type": "display_data"
    },
    {
     "name": "stdout",
     "output_type": "stream",
     "text": [
      "CPU times: user 1.46 s, sys: 105 ms, total: 1.56 s\n",
      "Wall time: 1.37 s\n"
     ]
    }
   ],
   "source": [
    "%%time\n",
    "from sklearn.metrics import classification_report\n",
    "import matplotlib.pyplot as plt  \n",
    "from sklearn.datasets import make_classification\n",
    "from sklearn.metrics import plot_confusion_matrix\n",
    "from sklearn.model_selection import train_test_split\n",
    "\n",
    "y_pred = nb.predict(X_test)\n",
    "\n",
    "print('accuracy %s' % accuracy_score(y_pred, y_test))\n",
    "print(classification_report(y_test, y_pred))\n",
    "\n",
    "# for plotting report\n",
    "def plot_classification_report(cr, title='Classification report ', with_avg_total=False, cmap=plt.cm.Blues):\n",
    "\n",
    "    lines = cr.split('\\n')\n",
    "\n",
    "    classes = []\n",
    "    plotMat = []\n",
    "    for line in lines[2 : (len(lines) - 3)]:   \n",
    "        #print(line)    \n",
    "        t = line.split()      \n",
    "        # print(t)    \n",
    "        if(len(t)==0):         \n",
    "            break\n",
    "#     for line in lines[2 : (len(lines) - 3)]:\n",
    "#         #print(line)\n",
    "#         t = line.split()\n",
    "#         # print(t)\n",
    "        classes.append(t[0])\n",
    "        v = [float(x) for x in t[1: len(t) - 1]]\n",
    "        print(v)\n",
    "        plotMat.append(v)\n",
    "\n",
    "    if with_avg_total:\n",
    "        aveTotal = lines[len(lines) - 1].split()\n",
    "        classes.append('avg/total')\n",
    "        vAveTotal = [float(x) for x in t[1:len(aveTotal) - 1]]\n",
    "        plotMat.append(vAveTotal)\n",
    "\n",
    "\n",
    "    plt.imshow(plotMat, interpolation='nearest', cmap=cmap)\n",
    "    plt.title(title)\n",
    "    plt.colorbar()\n",
    "    x_tick_marks = np.arange(3)\n",
    "    y_tick_marks = np.arange(len(classes))\n",
    "    plt.xticks(x_tick_marks, ['precision', 'recall', 'f1-score'], rotation=45)\n",
    "    plt.yticks(y_tick_marks, classes)\n",
    "    plt.tight_layout()\n",
    "    plt.ylabel('Classes')\n",
    "    plt.xlabel('Measures')\n",
    "\n",
    "\n",
    "plot_confusion_matrix(nb,y_test, y_pred)  \n",
    "target_names = ['POLITICS','ENTERTAINMENT','TECH']\n",
    "classificationReport = classification_report(y_test, y_pred, target_names=target_names)\n",
    "\n",
    "plot_classification_report(classificationReport)\n",
    "# plot_classification_report(sampleClassificationReport)\n",
    "\n",
    "plt.show()  "
   ]
  },
  {
   "cell_type": "markdown",
   "id": "known-macintosh",
   "metadata": {},
   "source": [
    "we achieved 90% accuracy for the above case"
   ]
  },
  {
   "cell_type": "markdown",
   "id": "asian-blocking",
   "metadata": {},
   "source": [
    "## Word2Vec"
   ]
  },
  {
   "cell_type": "markdown",
   "id": "normal-chart",
   "metadata": {},
   "source": [
    "word2vec algorithm was developed by milkov and here we can se below the two parts of word2vec: \n",
    "\n",
    "1.Skip-gram Word2Vec:\n",
    "Skip-gram Word2Vec is an architecture for computing word embeddings. Instead of using surrounding words to predict the center word, as with CBow Word2Vec, Skip-gram Word2Vec uses the central word to predict the surrounding words.\n",
    "\n",
    "The skip-gram objective function sums the log probabilities of the surrounding  words to the left and right of the target word  to produce the following objective:"
   ]
  },
  {
   "cell_type": "markdown",
   "id": "attached-exemption",
   "metadata": {},
   "source": [
    "<img src=\"skipw2vec.png\">"
   ]
  },
  {
   "cell_type": "markdown",
   "id": "accurate-qatar",
   "metadata": {},
   "source": [
    "2.Continuous Bag-of-Words Word2Vec is an architecture for creating word embeddings that uses  future words as well as  past words to create a word embedding. The objective function for CBOW is:"
   ]
  },
  {
   "cell_type": "markdown",
   "id": "hybrid-myanmar",
   "metadata": {},
   "source": [
    "<img src=\"cboww2vec.png\">"
   ]
  },
  {
   "cell_type": "code",
   "execution_count": 14,
   "id": "still-grounds",
   "metadata": {},
   "outputs": [
    {
     "name": "stdout",
     "output_type": "stream",
     "text": [
      "CPU times: user 36.1 s, sys: 2.9 s, total: 39 s\n",
      "Wall time: 39 s\n"
     ]
    }
   ],
   "source": [
    "%%time\n",
    "from gensim.models import Word2Vec\n",
    "\n",
    "wv = gensim.models.KeyedVectors.load_word2vec_format(\"GoogleNews-vectors-negative300.bin.gz\", binary=True)\n",
    "wv.init_sims(replace=True)\n"
   ]
  },
  {
   "cell_type": "code",
   "execution_count": 15,
   "id": "engaged-running",
   "metadata": {},
   "outputs": [
    {
     "data": {
      "text/plain": [
       "['Memorial_Hospital',\n",
       " 'Seniors',\n",
       " 'memorandum',\n",
       " 'elephant',\n",
       " 'Trump',\n",
       " 'Census',\n",
       " 'pilgrims',\n",
       " 'De',\n",
       " 'Dogs',\n",
       " '###-####_ext',\n",
       " 'chaotic',\n",
       " 'forgive',\n",
       " 'scholar',\n",
       " 'Lottery',\n",
       " 'decreasing',\n",
       " 'Supervisor',\n",
       " 'fundamentally',\n",
       " 'Fitness',\n",
       " 'abundance',\n",
       " 'Hold']"
      ]
     },
     "execution_count": 15,
     "metadata": {},
     "output_type": "execute_result"
    }
   ],
   "source": [
    "from itertools import islice\n",
    "list(islice(wv.vocab, 13030, 13050))"
   ]
  },
  {
   "cell_type": "markdown",
   "id": "legendary-prescription",
   "metadata": {},
   "source": [
    "The common way is to average the two word vectors.we are using BOW based approaches which includes averaging."
   ]
  },
  {
   "cell_type": "code",
   "execution_count": 16,
   "id": "warming-backup",
   "metadata": {},
   "outputs": [],
   "source": [
    "def word_averaging(wv, words):\n",
    "    all_words, mean = set(), []\n",
    "    \n",
    "    for word in words:\n",
    "        if isinstance(word, np.ndarray):\n",
    "            mean.append(word)\n",
    "        elif word in wv.vocab:\n",
    "            mean.append(wv.syn0norm[wv.vocab[word].index])\n",
    "            all_words.add(wv.vocab[word].index)\n",
    "\n",
    "    if not mean:\n",
    "        logging.warning(\"cannot compute similarity with no input %s\", words)\n",
    "        return np.zeros(wv.vector_size,)\n",
    "\n",
    "    mean = gensim.matutils.unitvec(np.array(mean).mean(axis=0)).astype(np.float32)\n",
    "    return mean\n",
    "\n",
    "def  word_averaging_list(wv, text_list):\n",
    "    return np.vstack([word_averaging(wv, post) for post in text_list ])"
   ]
  },
  {
   "cell_type": "markdown",
   "id": "stylish-mounting",
   "metadata": {},
   "source": [
    "tokenising the words"
   ]
  },
  {
   "cell_type": "code",
   "execution_count": 17,
   "id": "personalized-edinburgh",
   "metadata": {},
   "outputs": [],
   "source": [
    "def w2v_tokenize_text(text):\n",
    "    tokens = []\n",
    "    for sent in nltk.sent_tokenize(text, language='english'):\n",
    "        for word in nltk.word_tokenize(sent, language='english'):\n",
    "            if len(word) < 2:\n",
    "                continue\n",
    "            tokens.append(word)\n",
    "    return tokens"
   ]
  },
  {
   "cell_type": "code",
   "execution_count": 18,
   "id": "conservative-boost",
   "metadata": {},
   "outputs": [],
   "source": [
    "train, test = train_test_split(df, test_size=0.3, random_state = 42)\n",
    "\n",
    "test_tokenized = test.apply(lambda r: w2v_tokenize_text(r['post']), axis=1).values\n",
    "train_tokenized = train.apply(lambda r: w2v_tokenize_text(r['post']), axis=1).values"
   ]
  },
  {
   "cell_type": "code",
   "execution_count": 19,
   "id": "billion-hypothetical",
   "metadata": {},
   "outputs": [
    {
     "name": "stderr",
     "output_type": "stream",
     "text": [
      "<ipython-input-16-664dfaa6d69c>:8: DeprecationWarning: Call to deprecated `syn0norm` (Attribute will be removed in 4.0.0, use self.vectors_norm instead).\n",
      "  mean.append(wv.syn0norm[wv.vocab[word].index])\n",
      "WARNING:root:cannot compute similarity with no input []\n",
      "WARNING:root:cannot compute similarity with no input ['mossep11']\n",
      "WARNING:root:cannot compute similarity with no input ['laggies']\n",
      "WARNING:root:cannot compute similarity with no input ['cait', 'isnt', 'caitlyn', 'jenner']\n",
      "WARNING:root:cannot compute similarity with no input ['hagel', 'obamaland']\n",
      "WARNING:root:cannot compute similarity with no input ['piketty', 'elysium']\n",
      "WARNING:root:cannot compute similarity with no input []\n",
      "WARNING:root:cannot compute similarity with no input ['thisisnotus', 'thisisalsowhoweare']\n",
      "WARNING:root:cannot compute similarity with no input ['selma']\n",
      "WARNING:root:cannot compute similarity with no input []\n",
      "WARNING:root:cannot compute similarity with no input ['unobama']\n",
      "WARNING:root:cannot compute similarity with no input ['democalypse', 'asswhuppin']\n",
      "WARNING:root:cannot compute similarity with no input []\n",
      "WARNING:root:cannot compute similarity with no input ['parisians']\n",
      "WARNING:root:cannot compute similarity with no input ['trumpdontcare']\n",
      "WARNING:root:cannot compute similarity with no input ['yertle', 'commanderinchief']\n",
      "WARNING:root:cannot compute similarity with no input ['amanzaep10']\n",
      "WARNING:root:cannot compute similarity with no input ['charlottesville']\n",
      "WARNING:root:cannot compute similarity with no input ['yazidi']\n",
      "WARNING:root:cannot compute similarity with no input ['charlottesville']\n",
      "WARNING:root:cannot compute similarity with no input ['unignore', 'appalachia']\n",
      "WARNING:root:cannot compute similarity with no input []\n",
      "WARNING:root:cannot compute similarity with no input ['inthegridmusic', '123015']\n"
     ]
    }
   ],
   "source": [
    "X_train_word_average = word_averaging_list(wv,train_tokenized)\n",
    "X_test_word_average = word_averaging_list(wv,test_tokenized)"
   ]
  },
  {
   "cell_type": "markdown",
   "id": "announced-overview",
   "metadata": {},
   "source": [
    "using logistic regression"
   ]
  },
  {
   "cell_type": "code",
   "execution_count": 20,
   "id": "thorough-algeria",
   "metadata": {},
   "outputs": [
    {
     "name": "stderr",
     "output_type": "stream",
     "text": [
      "/home/kanav/informationRetrivalSytem/word2vec/jupyterenviornment/lib/python3.8/site-packages/sklearn/linear_model/_logistic.py:763: ConvergenceWarning: lbfgs failed to converge (status=1):\n",
      "STOP: TOTAL NO. of ITERATIONS REACHED LIMIT.\n",
      "\n",
      "Increase the number of iterations (max_iter) or scale the data as shown in:\n",
      "    https://scikit-learn.org/stable/modules/preprocessing.html\n",
      "Please also refer to the documentation for alternative solver options:\n",
      "    https://scikit-learn.org/stable/modules/linear_model.html#logistic-regression\n",
      "  n_iter_i = _check_optimize_result(\n"
     ]
    }
   ],
   "source": [
    "from sklearn.linear_model import LogisticRegression\n",
    "logreg = LogisticRegression(n_jobs=1, C=1e5)\n",
    "logreg = logreg.fit(X_train_word_average, train['tags'])\n",
    "y_pred = logreg.predict(X_test_word_average)"
   ]
  },
  {
   "cell_type": "code",
   "execution_count": 23,
   "id": "searching-aaron",
   "metadata": {},
   "outputs": [
    {
     "name": "stdout",
     "output_type": "stream",
     "text": [
      "accuracy 0.9061844863731656\n",
      "               precision    recall  f1-score   support\n",
      "\n",
      "ENTERTAINMENT       0.89      0.86      0.88      4905\n",
      "     POLITICS       0.92      0.95      0.93      9759\n",
      "         TECH       0.73      0.61      0.67       600\n",
      "\n",
      "     accuracy                           0.91     15264\n",
      "    macro avg       0.85      0.81      0.83     15264\n",
      " weighted avg       0.90      0.91      0.90     15264\n",
      "\n",
      "[0.89, 0.86, 0.88]\n",
      "[0.92, 0.95, 0.93]\n",
      "[0.73, 0.61, 0.67]\n"
     ]
    },
    {
     "data": {
      "image/png": "[encoded data removed]",
      "text/plain": [
       "<Figure size 432x288 with 3 Axes>"
      ]
     },
     "metadata": {
      "needs_background": "light"
     },
     "output_type": "display_data"
    }
   ],
   "source": [
    "print('accuracy %s' % accuracy_score(y_pred, test.tags))\n",
    "print(classification_report(test.tags, y_pred))\n",
    "\n",
    "# for plotting report\n",
    "def plot_classification_report(cr, title='Classification report ', with_avg_total=False, cmap=plt.cm.Blues):\n",
    "\n",
    "    lines = cr.split('\\n')\n",
    "\n",
    "    classes = []\n",
    "    plotMat = []\n",
    "    for line in lines[2 : (len(lines) - 3)]:   \n",
    "        #print(line)    \n",
    "        t = line.split()      \n",
    "        # print(t)    \n",
    "        if(len(t)==0):         \n",
    "            break\n",
    "#     for line in lines[2 : (len(lines) - 3)]:\n",
    "#         #print(line)\n",
    "#         t = line.split()\n",
    "#         # print(t)\n",
    "        classes.append(t[0])\n",
    "        v = [float(x) for x in t[1: len(t) - 1]]\n",
    "        print(v)\n",
    "        plotMat.append(v)\n",
    "\n",
    "    if with_avg_total:\n",
    "        aveTotal = lines[len(lines) - 1].split()\n",
    "        classes.append('avg/total')\n",
    "        vAveTotal = [float(x) for x in t[1:len(aveTotal) - 1]]\n",
    "        plotMat.append(vAveTotal)\n",
    "\n",
    "\n",
    "    plt.imshow(plotMat, interpolation='nearest', cmap=cmap)\n",
    "    plt.title(title)\n",
    "    plt.colorbar()\n",
    "    x_tick_marks = np.arange(3)\n",
    "    y_tick_marks = np.arange(len(classes))\n",
    "    plt.xticks(x_tick_marks, ['precision', 'recall', 'f1-score'], rotation=45)\n",
    "    plt.yticks(y_tick_marks, classes)\n",
    "    plt.tight_layout()\n",
    "    plt.ylabel('Classes')\n",
    "    plt.xlabel('Measures')\n",
    "\n",
    "\n",
    "plot_confusion_matrix(nb,y_test, y_pred)  \n",
    "target_names = ['POLITICS','ENTERTAINMENT','TECH']\n",
    "classificationReport = classification_report(y_test, y_pred, target_names=target_names)\n",
    "\n",
    "plot_classification_report(classificationReport)\n",
    "# plot_classification_report(sampleClassificationReport)\n",
    "\n",
    "plt.show()  "
   ]
  },
  {
   "cell_type": "markdown",
   "id": "visible-cardiff",
   "metadata": {},
   "source": [
    "we achieved 90.6% accuracy for the above case\n",
    "\n",
    "as with this set of corpus we can see both the cases are almost equal and any one can be used for a small data set of words around 300k"
   ]
  },
  {
   "cell_type": "markdown",
   "id": "accurate-consideration",
   "metadata": {},
   "source": [
    "#### we are now going to perfom the same functions as done above, Now our corpus is significantly bigger for comparison."
   ]
  },
  {
   "cell_type": "code",
   "execution_count": 27,
   "id": "level-signature",
   "metadata": {},
   "outputs": [
    {
     "data": {
      "text/html": [
       "<div>\n",
       "<style scoped>\n",
       "    .dataframe tbody tr th:only-of-type {\n",
       "        vertical-align: middle;\n",
       "    }\n",
       "\n",
       "    .dataframe tbody tr th {\n",
       "        vertical-align: top;\n",
       "    }\n",
       "\n",
       "    .dataframe thead th {\n",
       "        text-align: right;\n",
       "    }\n",
       "</style>\n",
       "<table border=\"1\" class=\"dataframe\">\n",
       "  <thead>\n",
       "    <tr style=\"text-align: right;\">\n",
       "      <th></th>\n",
       "      <th>post</th>\n",
       "      <th>tags</th>\n",
       "    </tr>\n",
       "  </thead>\n",
       "  <tbody>\n",
       "    <tr>\n",
       "      <th>0</th>\n",
       "      <td>what is causing this behavior  in our c# datet...</td>\n",
       "      <td>c#</td>\n",
       "    </tr>\n",
       "    <tr>\n",
       "      <th>1</th>\n",
       "      <td>have dynamic html load as if it was in an ifra...</td>\n",
       "      <td>asp.net</td>\n",
       "    </tr>\n",
       "    <tr>\n",
       "      <th>2</th>\n",
       "      <td>how to convert a float value in to min:sec  i ...</td>\n",
       "      <td>objective-c</td>\n",
       "    </tr>\n",
       "    <tr>\n",
       "      <th>3</th>\n",
       "      <td>.net framework 4 redistributable  just wonderi...</td>\n",
       "      <td>.net</td>\n",
       "    </tr>\n",
       "    <tr>\n",
       "      <th>4</th>\n",
       "      <td>trying to calculate and print the mean and its...</td>\n",
       "      <td>python</td>\n",
       "    </tr>\n",
       "    <tr>\n",
       "      <th>5</th>\n",
       "      <td>how to give alias name for my website  i have ...</td>\n",
       "      <td>asp.net</td>\n",
       "    </tr>\n",
       "    <tr>\n",
       "      <th>6</th>\n",
       "      <td>window.open() returns null in angularjs  it wo...</td>\n",
       "      <td>angularjs</td>\n",
       "    </tr>\n",
       "    <tr>\n",
       "      <th>7</th>\n",
       "      <td>identifying server timeout quickly in iphone  ...</td>\n",
       "      <td>iphone</td>\n",
       "    </tr>\n",
       "    <tr>\n",
       "      <th>8</th>\n",
       "      <td>unknown method key  error in rails 2.3.8 unit ...</td>\n",
       "      <td>ruby-on-rails</td>\n",
       "    </tr>\n",
       "    <tr>\n",
       "      <th>9</th>\n",
       "      <td>from the include  how to show and hide the con...</td>\n",
       "      <td>angularjs</td>\n",
       "    </tr>\n",
       "  </tbody>\n",
       "</table>\n",
       "</div>"
      ],
      "text/plain": [
       "                                                post           tags\n",
       "0  what is causing this behavior  in our c# datet...             c#\n",
       "1  have dynamic html load as if it was in an ifra...        asp.net\n",
       "2  how to convert a float value in to min:sec  i ...    objective-c\n",
       "3  .net framework 4 redistributable  just wonderi...           .net\n",
       "4  trying to calculate and print the mean and its...         python\n",
       "5  how to give alias name for my website  i have ...        asp.net\n",
       "6  window.open() returns null in angularjs  it wo...      angularjs\n",
       "7  identifying server timeout quickly in iphone  ...         iphone\n",
       "8  unknown method key  error in rails 2.3.8 unit ...  ruby-on-rails\n",
       "9  from the include  how to show and hide the con...      angularjs"
      ]
     },
     "execution_count": 27,
     "metadata": {},
     "output_type": "execute_result"
    }
   ],
   "source": [
    "df2 = pd.read_csv('stack-overflow-data.csv')\n",
    "df2 = df2[pd.notnull(df2['tags'])]\n",
    "df2.head(10)"
   ]
  },
  {
   "cell_type": "code",
   "execution_count": 28,
   "id": "physical-czech",
   "metadata": {},
   "outputs": [
    {
     "data": {
      "text/plain": [
       "10286120"
      ]
     },
     "execution_count": 28,
     "metadata": {},
     "output_type": "execute_result"
    }
   ],
   "source": [
    "df2['post'].apply(lambda x: len(x.split(' '))).sum()\n"
   ]
  },
  {
   "cell_type": "markdown",
   "id": "proved-prerequisite",
   "metadata": {},
   "source": [
    "as we can see above we have more than 10 million words in the data"
   ]
  },
  {
   "cell_type": "code",
   "execution_count": 30,
   "id": "internal-philadelphia",
   "metadata": {},
   "outputs": [
    {
     "data": {
      "image/png": "[encoded data removed]",
      "text/plain": [
       "<Figure size 720x288 with 1 Axes>"
      ]
     },
     "metadata": {
      "needs_background": "light"
     },
     "output_type": "display_data"
    }
   ],
   "source": [
    "my_tags = ['java','html','asp.net','c#','ruby-on-rails','jquery','mysql','php','ios','javascript','python','c','css','android','iphone','sql','objective-c','c++','angularjs','.net']\n",
    "plt.figure(figsize=(10,4))\n",
    "df2.tags.value_counts().plot(kind='bar');"
   ]
  },
  {
   "cell_type": "markdown",
   "id": "disturbed-listing",
   "metadata": {},
   "source": [
    "As we can see above this is a balanced data set, as classes are balanced."
   ]
  },
  {
   "cell_type": "code",
   "execution_count": 31,
   "id": "interesting-tamil",
   "metadata": {},
   "outputs": [],
   "source": [
    "def print_plot(index):\n",
    "    example = df2[df2.index == index][['post', 'tags']].values[0]\n",
    "    if len(example) > 0:\n",
    "        print(example[0])\n",
    "        print('Tag:', example[1])"
   ]
  },
  {
   "cell_type": "code",
   "execution_count": 32,
   "id": "mysterious-mistake",
   "metadata": {},
   "outputs": [
    {
     "name": "stdout",
     "output_type": "stream",
     "text": [
      "when we need interface c# <blockquote>    <strong>possible duplicate:</strong><br>   <a href= https://stackoverflow.com/questions/240152/why-would-i-want-to-use-interfaces >why would i want to use interfaces </a>   <a href= https://stackoverflow.com/questions/9451868/why-i-need-interface >why i need interface </a>    </blockquote>     i want to know where and when to use it     for example    <pre><code>interface idemo {  // function prototype  public void show(); }  // first class using the interface class myclass1 : idemo {  public void show()  {   // function body comes here   response.write( i m in myclass );  }  }  // second class using the interface class myclass2 : idemo {  public void show()   {   // function body comes here   response.write( i m in myclass2 );   response.write( so  what  );  } </code></pre>   these two classes has the same function name with different body. this can be even achieved without interface. then why we need an interface where and when to use it\n",
      "Tag: c#\n"
     ]
    }
   ],
   "source": [
    "print_plot(10)"
   ]
  },
  {
   "cell_type": "code",
   "execution_count": 33,
   "id": "academic-palace",
   "metadata": {},
   "outputs": [],
   "source": [
    "REPLACE_BY_SPACE_RE = re.compile('[/(){}\\[\\]\\|@,;]')\n",
    "BAD_SYMBOLS_RE = re.compile('[^0-9a-z #+_]')\n",
    "STOPWORDS = set(stopwords.words('english'))\n",
    "\n",
    "def clean_text(text):\n",
    "    \"\"\"\n",
    "        text: a string\n",
    "        \n",
    "        return: modified initial string\n",
    "    \"\"\"\n",
    "    text = BeautifulSoup(text, \"lxml\").text # HTML decoding\n",
    "    text = text.lower() # lowercase text\n",
    "    text = REPLACE_BY_SPACE_RE.sub(' ', text) # replace REPLACE_BY_SPACE_RE symbols by space in text\n",
    "    text = BAD_SYMBOLS_RE.sub('', text) # delete symbols which are in BAD_SYMBOLS_RE from text\n",
    "    text = ' '.join(word for word in text.split() if word not in STOPWORDS) # delete stopwors from text\n",
    "    return text"
   ]
  },
  {
   "cell_type": "code",
   "execution_count": 34,
   "id": "boxed-syndrome",
   "metadata": {},
   "outputs": [],
   "source": [
    "df2['post'] = df2['post'].apply(clean_text)"
   ]
  },
  {
   "cell_type": "markdown",
   "id": "composite-pointer",
   "metadata": {},
   "source": [
    "after cleaning the text:"
   ]
  },
  {
   "cell_type": "code",
   "execution_count": 35,
   "id": "vietnamese-bryan",
   "metadata": {},
   "outputs": [
    {
     "name": "stdout",
     "output_type": "stream",
     "text": [
      "need interface c# possible duplicate would want use interfaces need interface want know use example interface idemo function prototype public void show first class using interface class myclass1 idemo public void show function body comes responsewrite myclass second class using interface class myclass2 idemo public void show function body comes responsewrite myclass2 responsewrite two classes function name different body even achieved without interface need interface use\n",
      "Tag: c#\n"
     ]
    }
   ],
   "source": [
    "print_plot(10)"
   ]
  },
  {
   "cell_type": "code",
   "execution_count": 37,
   "id": "devoted-crime",
   "metadata": {},
   "outputs": [
    {
     "data": {
      "text/plain": [
       "3424060"
      ]
     },
     "execution_count": 37,
     "metadata": {},
     "output_type": "execute_result"
    }
   ],
   "source": [
    "df2['post'].apply(lambda x: len(x.split(' '))).sum()"
   ]
  },
  {
   "cell_type": "markdown",
   "id": "serious-point",
   "metadata": {},
   "source": [
    "after cleaning text, we have around 3 million words to work with.\n"
   ]
  },
  {
   "cell_type": "code",
   "execution_count": 38,
   "id": "electronic-causing",
   "metadata": {},
   "outputs": [],
   "source": [
    "X = df2.post\n",
    "y = df2.tags\n",
    "X_train, X_test, y_train, y_test = train_test_split(X, y, test_size=0.3, random_state = 42)"
   ]
  },
  {
   "cell_type": "markdown",
   "id": "native-parallel",
   "metadata": {},
   "source": [
    "## TF-IDF on second data set"
   ]
  },
  {
   "cell_type": "code",
   "execution_count": 39,
   "id": "leading-bicycle",
   "metadata": {},
   "outputs": [
    {
     "data": {
      "text/plain": [
       "Pipeline(steps=[('vect', CountVectorizer()), ('tfidf', TfidfTransformer()),\n",
       "                ('clf', MultinomialNB())])"
      ]
     },
     "execution_count": 39,
     "metadata": {},
     "output_type": "execute_result"
    }
   ],
   "source": [
    "nb2 = Pipeline([('vect', CountVectorizer()),\n",
    "               ('tfidf', TfidfTransformer()),\n",
    "               ('clf', MultinomialNB()),\n",
    "              ])\n",
    "nb2.fit(X_train, y_train)"
   ]
  },
  {
   "cell_type": "code",
   "execution_count": 41,
   "id": "marked-armor",
   "metadata": {},
   "outputs": [
    {
     "name": "stdout",
     "output_type": "stream",
     "text": [
      "accuracy 0.7393333333333333\n",
      "               precision    recall  f1-score   support\n",
      "\n",
      "         java       0.63      0.65      0.64       613\n",
      "         html       0.94      0.86      0.90       620\n",
      "      asp.net       0.87      0.92      0.90       587\n",
      "           c#       0.70      0.77      0.73       586\n",
      "ruby-on-rails       0.73      0.87      0.79       599\n",
      "       jquery       0.72      0.51      0.60       589\n",
      "        mysql       0.77      0.74      0.75       594\n",
      "          php       0.69      0.89      0.78       610\n",
      "          ios       0.63      0.59      0.61       617\n",
      "   javascript       0.57      0.65      0.60       587\n",
      "       python       0.70      0.50      0.59       611\n",
      "            c       0.79      0.78      0.79       594\n",
      "          css       0.84      0.59      0.69       619\n",
      "      android       0.65      0.84      0.74       574\n",
      "       iphone       0.64      0.83      0.72       584\n",
      "          sql       0.66      0.64      0.65       578\n",
      "  objective-c       0.79      0.77      0.78       591\n",
      "          c++       0.89      0.83      0.86       608\n",
      "    angularjs       0.94      0.89      0.91       638\n",
      "         .net       0.74      0.66      0.70       601\n",
      "\n",
      "     accuracy                           0.74     12000\n",
      "    macro avg       0.74      0.74      0.74     12000\n",
      " weighted avg       0.75      0.74      0.74     12000\n",
      "\n",
      "[0.63, 0.65, 0.64]\n",
      "[0.94, 0.86, 0.9]\n",
      "[0.87, 0.92, 0.9]\n",
      "[0.7, 0.77, 0.73]\n",
      "[0.73, 0.87, 0.79]\n",
      "[0.72, 0.51, 0.6]\n",
      "[0.77, 0.74, 0.75]\n",
      "[0.69, 0.89, 0.78]\n",
      "[0.63, 0.59, 0.61]\n",
      "[0.57, 0.65, 0.6]\n",
      "[0.7, 0.5, 0.59]\n",
      "[0.79, 0.78, 0.79]\n",
      "[0.84, 0.59, 0.69]\n",
      "[0.65, 0.84, 0.74]\n",
      "[0.64, 0.83, 0.72]\n",
      "[0.66, 0.64, 0.65]\n",
      "[0.79, 0.77, 0.78]\n",
      "[0.89, 0.83, 0.86]\n",
      "[0.94, 0.89, 0.91]\n",
      "[0.74, 0.66, 0.7]\n"
     ]
    },
    {
     "data": {
      "image/png": "[encoded data removed]",
      "text/plain": [
       "<Figure size 432x288 with 3 Axes>"
      ]
     },
     "metadata": {
      "needs_background": "light"
     },
     "output_type": "display_data"
    }
   ],
   "source": [
    "y_pred = nb2.predict(X_test)\n",
    "\n",
    "print('accuracy %s' % accuracy_score(y_pred, y_test))\n",
    "print(classification_report(y_test, y_pred, target_names=my_tags))\n",
    "\n",
    "# for plotting report\n",
    "def plot_classification_report(cr, title='Classification report ', with_avg_total=False, cmap=plt.cm.Blues):\n",
    "\n",
    "    lines = cr.split('\\n')\n",
    "\n",
    "    classes = []\n",
    "    plotMat = []\n",
    "    for line in lines[2 : (len(lines) - 3)]:   \n",
    "        #print(line)    \n",
    "        t = line.split()      \n",
    "        # print(t)    \n",
    "        if(len(t)==0):         \n",
    "            break\n",
    "#     for line in lines[2 : (len(lines) - 3)]:\n",
    "#         #print(line)\n",
    "#         t = line.split()\n",
    "#         # print(t)\n",
    "        classes.append(t[0])\n",
    "        v = [float(x) for x in t[1: len(t) - 1]]\n",
    "        print(v)\n",
    "        plotMat.append(v)\n",
    "\n",
    "    if with_avg_total:\n",
    "        aveTotal = lines[len(lines) - 1].split()\n",
    "        classes.append('avg/total')\n",
    "        vAveTotal = [float(x) for x in t[1:len(aveTotal) - 1]]\n",
    "        plotMat.append(vAveTotal)\n",
    "\n",
    "\n",
    "    plt.imshow(plotMat, interpolation='nearest', cmap=cmap)\n",
    "    plt.title(title)\n",
    "    plt.colorbar()\n",
    "    x_tick_marks = np.arange(3)\n",
    "    y_tick_marks = np.arange(len(classes))\n",
    "    plt.xticks(x_tick_marks, ['precision', 'recall', 'f1-score'], rotation=45)\n",
    "    plt.yticks(y_tick_marks, classes)\n",
    "    plt.tight_layout()\n",
    "    plt.ylabel('Classes')\n",
    "    plt.xlabel('Measures')\n",
    "\n",
    "\n",
    "plot_confusion_matrix(nb,y_test, y_pred)  \n",
    "target_names = ['java','html','asp.net','c#','ruby-on-rails','jquery','mysql','php','ios','javascript','python','c','css','android','iphone','sql','objective-c','c++','angularjs','.net']\n",
    "\n",
    "classificationReport = classification_report(y_test, y_pred, target_names=target_names)\n",
    "\n",
    "plot_classification_report(classificationReport)\n",
    "# plot_classification_report(sampleClassificationReport)\n",
    "\n",
    "plt.show()  "
   ]
  },
  {
   "cell_type": "markdown",
   "id": "small-canyon",
   "metadata": {},
   "source": [
    "## Word2Vec"
   ]
  },
  {
   "cell_type": "code",
   "execution_count": 42,
   "id": "classical-allen",
   "metadata": {},
   "outputs": [
    {
     "data": {
      "text/plain": [
       "['Memorial_Hospital',\n",
       " 'Seniors',\n",
       " 'memorandum',\n",
       " 'elephant',\n",
       " 'Trump',\n",
       " 'Census',\n",
       " 'pilgrims',\n",
       " 'De',\n",
       " 'Dogs',\n",
       " '###-####_ext',\n",
       " 'chaotic',\n",
       " 'forgive',\n",
       " 'scholar',\n",
       " 'Lottery',\n",
       " 'decreasing',\n",
       " 'Supervisor',\n",
       " 'fundamentally',\n",
       " 'Fitness',\n",
       " 'abundance',\n",
       " 'Hold']"
      ]
     },
     "execution_count": 42,
     "metadata": {},
     "output_type": "execute_result"
    }
   ],
   "source": [
    "list(islice(wv.vocab, 13030, 13050))"
   ]
  },
  {
   "cell_type": "code",
   "execution_count": 43,
   "id": "valid-market",
   "metadata": {},
   "outputs": [],
   "source": [
    "def word_averaging(wv, words):\n",
    "    all_words, mean = set(), []\n",
    "    \n",
    "    for word in words:\n",
    "        if isinstance(word, np.ndarray):\n",
    "            mean.append(word)\n",
    "        elif word in wv.vocab:\n",
    "            mean.append(wv.syn0norm[wv.vocab[word].index])\n",
    "            all_words.add(wv.vocab[word].index)\n",
    "\n",
    "    if not mean:\n",
    "        logging.warning(\"cannot compute similarity with no input %s\", words)\n",
    "        # FIXME: remove these examples in pre-processing\n",
    "        return np.zeros(wv.vector_size,)\n",
    "\n",
    "    mean = gensim.matutils.unitvec(np.array(mean).mean(axis=0)).astype(np.float32)\n",
    "    return mean\n",
    "\n",
    "def  word_averaging_list(wv, text_list):\n",
    "    return np.vstack([word_averaging(wv, post) for post in text_list ])"
   ]
  },
  {
   "cell_type": "code",
   "execution_count": 44,
   "id": "sapphire-bhutan",
   "metadata": {},
   "outputs": [],
   "source": [
    "def w2v_tokenize_text(text):\n",
    "    tokens = []\n",
    "    for sent in nltk.sent_tokenize(text, language='english'):\n",
    "        for word in nltk.word_tokenize(sent, language='english'):\n",
    "            if len(word) < 2:\n",
    "                continue\n",
    "            tokens.append(word)\n",
    "    return tokens"
   ]
  },
  {
   "cell_type": "code",
   "execution_count": 45,
   "id": "north-concord",
   "metadata": {},
   "outputs": [],
   "source": [
    "train, test = train_test_split(df2, test_size=0.3, random_state = 42)\n",
    "\n",
    "test_tokenized = test.apply(lambda r: w2v_tokenize_text(r['post']), axis=1).values\n",
    "train_tokenized = train.apply(lambda r: w2v_tokenize_text(r['post']), axis=1).values"
   ]
  },
  {
   "cell_type": "code",
   "execution_count": 46,
   "id": "altered-warrant",
   "metadata": {},
   "outputs": [
    {
     "name": "stderr",
     "output_type": "stream",
     "text": [
      "<ipython-input-43-664dfaa6d69c>:8: DeprecationWarning: Call to deprecated `syn0norm` (Attribute will be removed in 4.0.0, use self.vectors_norm instead).\n",
      "  mean.append(wv.syn0norm[wv.vocab[word].index])\n",
      "WARNING:root:cannot compute similarity with no input []\n",
      "WARNING:root:cannot compute similarity with no input ['ngrepeat']\n",
      "WARNING:root:cannot compute similarity with no input []\n"
     ]
    }
   ],
   "source": [
    "X_train_word_average = word_averaging_list(wv,train_tokenized)\n",
    "X_test_word_average = word_averaging_list(wv,test_tokenized)"
   ]
  },
  {
   "cell_type": "markdown",
   "id": "korean-thompson",
   "metadata": {},
   "source": [
    "perfoming logistic regression"
   ]
  },
  {
   "cell_type": "code",
   "execution_count": 48,
   "id": "identical-chester",
   "metadata": {},
   "outputs": [
    {
     "name": "stderr",
     "output_type": "stream",
     "text": [
      "/home/kanav/informationRetrivalSytem/word2vec/jupyterenviornment/lib/python3.8/site-packages/sklearn/linear_model/_logistic.py:763: ConvergenceWarning: lbfgs failed to converge (status=1):\n",
      "STOP: TOTAL NO. of ITERATIONS REACHED LIMIT.\n",
      "\n",
      "Increase the number of iterations (max_iter) or scale the data as shown in:\n",
      "    https://scikit-learn.org/stable/modules/preprocessing.html\n",
      "Please also refer to the documentation for alternative solver options:\n",
      "    https://scikit-learn.org/stable/modules/linear_model.html#logistic-regression\n",
      "  n_iter_i = _check_optimize_result(\n"
     ]
    }
   ],
   "source": [
    "logreg = LogisticRegression(n_jobs=1, C=1e5)\n",
    "logreg = logreg.fit(X_train_word_average, train['tags'])\n",
    "y_pred = logreg.predict(X_test_word_average)"
   ]
  },
  {
   "cell_type": "code",
   "execution_count": 49,
   "id": "supposed-affairs",
   "metadata": {},
   "outputs": [
    {
     "name": "stdout",
     "output_type": "stream",
     "text": [
      "accuracy 0.63225\n",
      "               precision    recall  f1-score   support\n",
      "\n",
      "         java       0.61      0.57      0.59       613\n",
      "         html       0.76      0.75      0.76       620\n",
      "      asp.net       0.66      0.64      0.65       587\n",
      "           c#       0.52      0.52      0.52       586\n",
      "ruby-on-rails       0.70      0.75      0.72       599\n",
      "       jquery       0.40      0.39      0.40       589\n",
      "        mysql       0.64      0.61      0.63       594\n",
      "          php       0.74      0.78      0.76       610\n",
      "          ios       0.59      0.61      0.60       617\n",
      "   javascript       0.54      0.53      0.54       587\n",
      "       python       0.58      0.53      0.55       611\n",
      "            c       0.60      0.60      0.60       594\n",
      "          css       0.63      0.60      0.61       619\n",
      "      android       0.58      0.59      0.58       574\n",
      "       iphone       0.70      0.73      0.71       584\n",
      "          sql       0.40      0.42      0.41       578\n",
      "  objective-c       0.68      0.70      0.69       591\n",
      "          c++       0.78      0.78      0.78       608\n",
      "    angularjs       0.82      0.81      0.82       638\n",
      "         .net       0.67      0.71      0.69       601\n",
      "\n",
      "     accuracy                           0.63     12000\n",
      "    macro avg       0.63      0.63      0.63     12000\n",
      " weighted avg       0.63      0.63      0.63     12000\n",
      "\n"
     ]
    }
   ],
   "source": [
    "\n",
    "print('accuracy %s' % accuracy_score(y_pred, test.tags))\n",
    "print(classification_report(test.tags, y_pred,target_names=my_tags))"
   ]
  },
  {
   "cell_type": "markdown",
   "id": "basic-wilson",
   "metadata": {},
   "source": [
    "conclusion:\n",
    "\n",
    "From the above values we conclude that If the corpus is small or medium data size then both TF-ID and Word2vec have almost the same accuracy of 90%, however when the corpus is large we saw that TF-IDF performs with better accuracy of 73%, while word2vec accuracy is low ie- 63%"
   ]
  }
 ],
 "metadata": {
  "kernelspec": {
   "display_name": "Python 3",
   "language": "python",
   "name": "python3"
  },
  "language_info": {
   "codemirror_mode": {
    "name": "ipython",
    "version": 3
   },
   "file_extension": ".py",
   "mimetype": "text/x-python",
   "name": "python",
   "nbconvert_exporter": "python",
   "pygments_lexer": "ipython3",
   "version": "3.8.5"
  }
 },
 "nbformat": 4,
 "nbformat_minor": 5
}
